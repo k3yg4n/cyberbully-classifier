{
 "cells": [
  {
   "cell_type": "markdown",
   "id": "b091dfbf",
   "metadata": {},
   "source": [
    "Imports"
   ]
  },
  {
   "cell_type": "code",
   "execution_count": 1,
   "id": "d9118578",
   "metadata": {},
   "outputs": [],
   "source": [
    "from sklearn.pipeline import Pipeline\n",
    "from sklearn.model_selection import train_test_split, GridSearchCV, StratifiedKFold\n",
    "from sklearn.neighbors import KNeighborsClassifier\n",
    "from sklearn.decomposition import TruncatedSVD\n",
    "from sklearn.metrics import classification_report, confusion_matrix\n",
    "import seaborn as sns\n",
    "import matplotlib.pyplot as plt\n",
    "import pandas as pd"
   ]
  },
  {
   "cell_type": "markdown",
   "id": "28399f9d",
   "metadata": {},
   "source": [
    "Load Dataset"
   ]
  },
  {
   "cell_type": "code",
   "execution_count": null,
   "id": "e392c3cc",
   "metadata": {},
   "outputs": [],
   "source": [
    "from pathlib import Path\n",
    "\n",
    "# use absolute-safe path\n",
    "project_root = Path.cwd().parent\n",
    "csv_path = project_root / \"data\" / \"output\" / \"tfidf_dataset.csv\"\n",
    "\n",
    "# load dataset\n",
    "df = pd.read_csv(csv_path)\n",
    "\n",
    "# features and labels\n",
    "X = df.drop(columns=[\"cyberbullying\"])\n",
    "y = df[\"cyberbullying\"]\n",
    "\n",
    "# train/test split\n",
    "X_train, X_test, y_train, y_test = train_test_split(\n",
    "    X, y, test_size=0.2, stratify=y, random_state=42\n",
    ")"
   ]
  },
  {
   "cell_type": "markdown",
   "id": "d554fc2f",
   "metadata": {},
   "source": [
    "Find Best Model (optimal k value)"
   ]
  },
  {
   "cell_type": "code",
   "execution_count": null,
   "id": "13453500",
   "metadata": {},
   "outputs": [],
   "source": [
    "# SVD + KNN\n",
    "pipeline = Pipeline([\n",
    "    (\"svd\", TruncatedSVD(n_components=100, random_state=42)),\n",
    "    (\"knn\", KNeighborsClassifier(weights='distance'))\n",
    "])\n",
    "\n",
    "# grid search k = 1 to 26\n",
    "param_grid = {\n",
    "    \"knn__n_neighbors\": list(range(1, 26))\n",
    "}\n",
    "\n",
    "cv = StratifiedKFold(n_splits=5, shuffle=True, random_state=42)\n",
    "\n",
    "grid_search = GridSearchCV(\n",
    "    estimator=pipeline,\n",
    "    param_grid=param_grid,\n",
    "    scoring='f1_macro',\n",
    "    cv=cv,\n",
    "    n_jobs=1\n",
    ")\n",
    "\n",
    "# fit to training data\n",
    "grid_search.fit(X_train, y_train)\n",
    "\n",
    "# save best model\n",
    "best_model = grid_search.best_estimator_\n",
    "print(f\"Best k: {grid_search.best_params_['knn__n_neighbors']}\")\n",
    "print(f\"Best CV F1 (macro): {grid_search.best_score_:.4f}\")"
   ]
  },
  {
   "cell_type": "markdown",
   "id": "e1b1093e",
   "metadata": {},
   "source": [
    "Evaluate Best Model on Test Set"
   ]
  },
  {
   "cell_type": "code",
   "execution_count": null,
   "id": "8976c181",
   "metadata": {},
   "outputs": [],
   "source": [
    "# evaluate on test set\n",
    "y_pred = best_model.predict(X_test)\n",
    "\n",
    "print(\"\\nClassification Report:\")\n",
    "print(classification_report(y_test, y_pred, target_names=[\"Not CB\", \"Cyberbullying\"]))\n",
    "\n",
    "# confusion Matrix\n",
    "cm = confusion_matrix(y_test, y_pred)\n",
    "plt.figure(figsize=(6, 5))\n",
    "sns.heatmap(cm, annot=True, fmt=\"d\", cmap='Blues', xticklabels=[\"Not CB\", \"Cyberbullying\"], yticklabels=[\"Not CB\", \"Cyberbullying\"])\n",
    "plt.title(\"KNN (Weighted, SVD) - Confusion Matrix\")\n",
    "plt.xlabel(\"Predicted\")\n",
    "plt.ylabel(\"Actual\")\n",
    "plt.tight_layout()\n",
    "plt.show()"
   ]
  }
 ],
 "metadata": {
  "kernelspec": {
   "display_name": "venv",
   "language": "python",
   "name": "python3"
  },
  "language_info": {
   "codemirror_mode": {
    "name": "ipython",
    "version": 3
   },
   "file_extension": ".py",
   "mimetype": "text/x-python",
   "name": "python",
   "nbconvert_exporter": "python",
   "pygments_lexer": "ipython3",
   "version": "3.11.6"
  }
 },
 "nbformat": 4,
 "nbformat_minor": 5
}
