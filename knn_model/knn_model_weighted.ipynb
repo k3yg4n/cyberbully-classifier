{
 "cells": [
  {
   "cell_type": "markdown",
   "id": "2f9c0d1a",
   "metadata": {},
   "source": [
    "Note: Picked k = 14 because it had the best balance between recall, precision, F1, and accuracy. Refer to results in final_optimal_weighted_k.py."
   ]
  },
  {
   "cell_type": "markdown",
   "id": "b091dfbf",
   "metadata": {},
   "source": [
    "Imports"
   ]
  },
  {
   "cell_type": "code",
   "execution_count": 1,
   "id": "d9118578",
   "metadata": {},
   "outputs": [],
   "source": [
    "import pandas as pd\n",
    "import numpy as np\n",
    "from sklearn.model_selection import KFold\n",
    "from sklearn.neighbors import KNeighborsClassifier\n",
    "from sklearn.decomposition import TruncatedSVD\n",
    "from sklearn.metrics import classification_report, accuracy_score, f1_score, confusion_matrix\n",
    "import matplotlib.pyplot as plt\n",
    "import seaborn as sns"
   ]
  },
  {
   "cell_type": "markdown",
   "id": "28399f9d",
   "metadata": {},
   "source": [
    "Load Dataset"
   ]
  },
  {
   "cell_type": "code",
   "execution_count": null,
   "id": "e392c3cc",
   "metadata": {},
   "outputs": [],
   "source": [
    "from pathlib import Path\n",
    "\n",
    "# use absolute-safe path\n",
    "project_root = Path.cwd().parent\n",
    "csv_path = project_root / \"data\" / \"output\" / \"tfidf_dataset.csv\"\n",
    "\n",
    "# load dataset\n",
    "df = pd.read_csv(csv_path)\n",
    "\n",
    "# define k value and number of folds\n",
    "k_value = 14\n",
    "fold = 5\n",
    "\n",
    "# features and labels\n",
    "X = df.drop(columns=[\"cyberbullying\"])\n",
    "y = df[\"cyberbullying\"]"
   ]
  },
  {
   "cell_type": "markdown",
   "id": "b44c76f3",
   "metadata": {},
   "source": [
    "Reduce Dimensions + Train/Test Split"
   ]
  },
  {
   "cell_type": "code",
   "execution_count": 3,
   "id": "1d1d235f",
   "metadata": {},
   "outputs": [],
   "source": [
    "# dimensionality reduction using truncatedSVD\n",
    "# reduces each word from 5000 to top 100 features that captures most of the info of the data\n",
    "svd = TruncatedSVD(n_components=100, random_state=42)\n",
    "X_reduced = svd.fit_transform(X)"
   ]
  },
  {
   "cell_type": "markdown",
   "id": "54558c74",
   "metadata": {},
   "source": [
    "Train Weighted KNN (k=14)"
   ]
  },
  {
   "cell_type": "code",
   "execution_count": null,
   "id": "d9379107",
   "metadata": {},
   "outputs": [],
   "source": [
    "# split training/testing data using kfold\n",
    "kf = KFold(n_splits=fold, shuffle=True, random_state=42)\n",
    "model = KNeighborsClassifier(n_neighbors=k_value, weights='distance')\n",
    "\n",
    "# # collect all f1 and accuracy scores across all folds\n",
    "# f1_scores = []\n",
    "# acc_scores = []\n",
    "\n",
    "# collect all true and predicted labels across all folds\n",
    "all_y_true = []\n",
    "all_y_pred = []"
   ]
  },
  {
   "cell_type": "markdown",
   "id": "ac8e716f",
   "metadata": {},
   "source": [
    "Results/Evaluation"
   ]
  },
  {
   "cell_type": "code",
   "execution_count": 5,
   "id": "3e8a22b8",
   "metadata": {},
   "outputs": [],
   "source": [
    "for fold, (train_index, test_index) in enumerate(kf.split(X_reduced), start=1):\n",
    "    X_train, X_test = X_reduced[train_index], X_reduced[test_index]\n",
    "    y_train, y_test = y.iloc[train_index], y.iloc[test_index]\n",
    "\n",
    "    model.fit(X_train, y_train)\n",
    "    y_pred = model.predict(X_test)\n",
    "\n",
    "    all_y_true.extend(y_test)\n",
    "    all_y_pred.extend(y_pred)\n",
    "\n",
    "    # acc = accuracy_score(y_test, y_pred)\n",
    "    # f1 = f1_score(y_test, y_pred, average='weighted')\n",
    "\n",
    "    # acc_scores.append(acc)\n",
    "    # f1_scores.append(f1)\n",
    "\n",
    "    # print(f\"Fold {fold}:\")\n",
    "    # print(f\"Accuracy     = {acc:.4f}\")\n",
    "    # print(f\"F1-Weighted  = {f1:.4f}\")\n",
    "    # print(classification_report(y_test, y_pred, digits=2))\n",
    "\n",
    "    # # Confusion Matrix\n",
    "    # cm = confusion_matrix(y_test, y_pred)\n",
    "    # plt.figure(figsize=(5, 4))\n",
    "    # sns.heatmap(cm, annot=True, fmt=\"d\", cmap=\"Blues\", xticklabels=[\"Not CB\", \"Cyberbullying\"], yticklabels=[\"Not CB\", \"Cyberbullying\"])\n",
    "    # plt.title(f\"Confusion Matrix - Fold {fold}\")\n",
    "    # plt.xlabel(\"Predicted\")\n",
    "    # plt.ylabel(\"Actual\")\n",
    "    # plt.tight_layout()\n",
    "    # plt.show()"
   ]
  },
  {
   "cell_type": "code",
   "execution_count": 6,
   "id": "af7e60e8",
   "metadata": {},
   "outputs": [
    {
     "name": "stdout",
     "output_type": "stream",
     "text": [
      "Overall Accuracy: 0.7845\n",
      "\n",
      "Overall F1-Weighted Score: 0.7824\n",
      "              precision    recall  f1-score   support\n",
      "\n",
      "           0     0.7381    0.8818    0.8036     16225\n",
      "           1     0.8533    0.6871    0.7613     16225\n",
      "\n",
      "    accuracy                         0.7845     32450\n",
      "   macro avg     0.7957    0.7845    0.7824     32450\n",
      "weighted avg     0.7957    0.7845    0.7824     32450\n",
      "\n",
      "Confusion Matrix:\n"
     ]
    },
    {
     "data": {
      "image/png": "[encoded data removed]",
      "text/plain": [
       "<Figure size 500x400 with 2 Axes>"
      ]
     },
     "metadata": {},
     "output_type": "display_data"
    }
   ],
   "source": [
    "# Final evaluation over all folds combined\n",
    "print(f\"Overall Accuracy: {accuracy_score(all_y_true, all_y_pred):.4f}\")\n",
    "overall_f1 = f1_score(all_y_true, all_y_pred, average='weighted')\n",
    "print(f\"\\nOverall F1-Weighted Score: {overall_f1:.4f}\")\n",
    "print(classification_report(all_y_true, all_y_pred, digits=4))\n",
    "\n",
    "print(\"Confusion Matrix:\")\n",
    "cm = confusion_matrix(all_y_true, all_y_pred)\n",
    "plt.figure(figsize=(5, 4))\n",
    "sns.heatmap(cm, annot=True, fmt=\"d\", cmap=\"Blues\", xticklabels=[\"Not CB\", \"Cyberbullying\"], yticklabels=[\"Not CB\", \"Cyberbullying\"])\n",
    "plt.title(f\"Confusion Matrix - Weighted KNN (k={k_value}) - Fold {fold}\")\n",
    "plt.xlabel(\"Predicted\")\n",
    "plt.ylabel(\"Actual\")\n",
    "plt.tight_layout()\n",
    "plt.show()"
   ]
  }
 ],
 "metadata": {
  "kernelspec": {
   "display_name": "venv",
   "language": "python",
   "name": "python3"
  },
  "language_info": {
   "codemirror_mode": {
    "name": "ipython",
    "version": 3
   },
   "file_extension": ".py",
   "mimetype": "text/x-python",
   "name": "python",
   "nbconvert_exporter": "python",
   "pygments_lexer": "ipython3",
   "version": "3.11.6"
  }
 },
 "nbformat": 4,
 "nbformat_minor": 5
}
